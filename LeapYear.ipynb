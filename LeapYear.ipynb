{
 "cells": [
  {
   "cell_type": "markdown",
   "id": "394ea8eb",
   "metadata": {},
   "source": [
    "Given an integer A representing a year, Return 1 if it is a leap year else, return 0.\n",
    "\n",
    "A year is a leap year if the following conditions are satisfied:\n",
    "\n",
    "The year is multiple of 400.\n",
    "or the year is multiple of 4 and not multiple of 100.\n"
   ]
  },
  {
   "cell_type": "code",
   "execution_count": 2,
   "id": "bcc08c4f",
   "metadata": {},
   "outputs": [
    {
     "name": "stdout",
     "output_type": "stream",
     "text": [
      "Enter Year : 2004\n"
     ]
    }
   ],
   "source": [
    "A = int(input(\"Enter Year : \"))"
   ]
  },
  {
   "cell_type": "code",
   "execution_count": 12,
   "id": "3effc7bf",
   "metadata": {},
   "outputs": [
    {
     "name": "stdout",
     "output_type": "stream",
     "text": [
      "It is leap year\n"
     ]
    }
   ],
   "source": [
    "if (A % 400 == 0) or (A % 4 == 0 and A % 100 != 0):\n",
    "    print(\"It is leap year\")\n",
    "    \n",
    "else :\n",
    "    print(\"not leap year\")"
   ]
  }
 ],
 "metadata": {
  "kernelspec": {
   "display_name": "Python 3 (ipykernel)",
   "language": "python",
   "name": "python3"
  },
  "language_info": {
   "codemirror_mode": {
    "name": "ipython",
    "version": 3
   },
   "file_extension": ".py",
   "mimetype": "text/x-python",
   "name": "python",
   "nbconvert_exporter": "python",
   "pygments_lexer": "ipython3",
   "version": "3.11.4"
  }
 },
 "nbformat": 4,
 "nbformat_minor": 5
}
