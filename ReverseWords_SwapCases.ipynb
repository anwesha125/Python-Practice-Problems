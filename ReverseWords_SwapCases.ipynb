{
 "cells": [
  {
   "cell_type": "code",
   "execution_count": null,
   "id": "3397b8ca",
   "metadata": {},
   "outputs": [],
   "source": [
    "# 1. Reverse words \n",
    "# 2. Swap Cases\n",
    "# Ex : aWESOME is cODING \n",
    "# Output : Coding IS Awesome"
   ]
  },
  {
   "cell_type": "code",
   "execution_count": 1,
   "id": "71bbf3c0",
   "metadata": {},
   "outputs": [
    {
     "name": "stdout",
     "output_type": "stream",
     "text": [
      "Enter a sentence: cODING IS aWESOME\n",
      "Reversed and case-swapped sentence: Awesome is Coding\n"
     ]
    }
   ],
   "source": [
    "def reverse_words_order_and_swap_cases(sentence):\n",
    "    #split the sentence into words\n",
    "    words = sentence.split() #creates a list of words\n",
    "    \n",
    "    #reverse the list of words \n",
    "    reverse_words = words[::-1]\n",
    "    \n",
    "    #join reversed list into a single string\n",
    "    reversed_sentence = ' '.join(reverse_words)\n",
    "    \n",
    "    # swap the cases of each letter in the reversed sentence\n",
    "    swapped_case_sentence = reversed_sentence.swapcase() # we use swapcase() method\n",
    "    return swapped_case_sentence\n",
    "\n",
    "sentence = input(\"Enter a sentence: \")\n",
    "result =  reverse_words_order_and_swap_cases(sentence)\n",
    "print(\"Reversed and case-swapped sentence:\", result)"
   ]
  },
  {
   "cell_type": "code",
   "execution_count": null,
   "id": "4e905557",
   "metadata": {},
   "outputs": [],
   "source": []
  }
 ],
 "metadata": {
  "kernelspec": {
   "display_name": "Python 3 (ipykernel)",
   "language": "python",
   "name": "python3"
  },
  "language_info": {
   "codemirror_mode": {
    "name": "ipython",
    "version": 3
   },
   "file_extension": ".py",
   "mimetype": "text/x-python",
   "name": "python",
   "nbconvert_exporter": "python",
   "pygments_lexer": "ipython3",
   "version": "3.11.4"
  }
 },
 "nbformat": 4,
 "nbformat_minor": 5
}
