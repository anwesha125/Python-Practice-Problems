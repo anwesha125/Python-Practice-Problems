{
 "cells": [
  {
   "cell_type": "markdown",
   "id": "136f8da4",
   "metadata": {},
   "source": [
    "FizzBuzz : Problem Description\n",
    "\n",
    "Given a positive integer A, return an array of strings with all the integers from 1 to N. But for multiples of 3 the array should have “Fizz” instead of the number. For the multiples of 5, the array should have “Buzz” instead of the number. For numbers which are multiple of 3 and 5 both, the array should have \"FizzBuzz\" instead of the number.\n"
   ]
  },
  {
   "cell_type": "code",
   "execution_count": 50,
   "id": "1164f761",
   "metadata": {},
   "outputs": [
    {
     "name": "stdout",
     "output_type": "stream",
     "text": [
      "1 2 Fizz 4 Buzz Fizz 7 8 Fizz Buzz 11 Fizz 13 14 FizzBuzz 16 17 Fizz 19 Buzz\n"
     ]
    }
   ],
   "source": [
    "\n",
    "n = 20\n",
    "# Declare an empty list of strings to store the results\n",
    "result = []\n",
    "for i in range(1, n + 1):\n",
    "    \n",
    "    if i % 3 == 0 and i % 5 == 0:\n",
    "        result.append(\"FizzBuzz\")\n",
    "    elif i % 3 == 0 :\n",
    "        result.append(\"Fizz\")\n",
    "    elif i % 5 == 0 :\n",
    "        result.append(\"Buzz\")\n",
    "    else:\n",
    "        result.append(str(i))  # Add the current number as a string to the result list\n",
    " \n",
    "\n",
    " \n",
    "# Print the result\n",
    "print(' '.join(result))"
   ]
  },
  {
   "cell_type": "code",
   "execution_count": null,
   "id": "54f4148b",
   "metadata": {},
   "outputs": [],
   "source": []
  },
  {
   "cell_type": "code",
   "execution_count": null,
   "id": "79dd7687",
   "metadata": {},
   "outputs": [],
   "source": []
  }
 ],
 "metadata": {
  "kernelspec": {
   "display_name": "Python 3 (ipykernel)",
   "language": "python",
   "name": "python3"
  },
  "language_info": {
   "codemirror_mode": {
    "name": "ipython",
    "version": 3
   },
   "file_extension": ".py",
   "mimetype": "text/x-python",
   "name": "python",
   "nbconvert_exporter": "python",
   "pygments_lexer": "ipython3",
   "version": "3.11.4"
  }
 },
 "nbformat": 4,
 "nbformat_minor": 5
}
